{
  "nbformat": 4,
  "nbformat_minor": 0,
  "metadata": {
    "colab": {
      "provenance": [],
      "include_colab_link": true
    },
    "kernelspec": {
      "name": "python3",
      "display_name": "Python 3"
    },
    "language_info": {
      "name": "python"
    }
  },
  "cells": [
    {
      "cell_type": "markdown",
      "metadata": {
        "id": "view-in-github",
        "colab_type": "text"
      },
      "source": [
        "<a href=\"https://colab.research.google.com/github/Ankit-githb/Prepinsta-project-5--Murder-Mystery/blob/main/Web_scrapping.ipynb\" target=\"_parent\"><img src=\"https://colab.research.google.com/assets/colab-badge.svg\" alt=\"Open In Colab\"/></a>"
      ]
    },
    {
      "cell_type": "code",
      "source": [
        "#import libraries\n",
        "\n",
        "import requests                      #send req to grab this web page\n",
        "from bs4 import BeautifulSoup\n",
        "import pandas as pd                  # export the info to a csv file"
      ],
      "metadata": {
        "id": "NfR1_OtmTe9r"
      },
      "execution_count": null,
      "outputs": []
    },
    {
      "cell_type": "code",
      "execution_count": null,
      "metadata": {
        "id": "BewcF2hKTVAS"
      },
      "outputs": [],
      "source": [
        "books = []    # create an empty list\n",
        "\n",
        "for i in range(1,51):\n",
        "  url = f\"https://books.toscrape.com/catalogue/page-{i}.html\"  # in here i is a variable 1st time i will be page 1 and we are going to send req to page 1 and this will continue\n",
        "  response = requests.get(url)\n",
        "  response = response.content # if i run response you would see a huge binary so i need to turn this into HTML code now this is where BeautifulSoup comes in\n",
        "  soup = BeautifulSoup(response, 'html.parser')\n",
        "  ol = soup.find('ol')  # its going to inside the soup and find the 1st order list\n",
        "  articles = ol.find_all('article', class_='product_pod')   # we need to find all the articles, and i use class_ because it is a CSS class\n",
        "\n",
        "  for article in articles:\n",
        "    image = article.find('img')\n",
        "    title = image.attrs['alt']\n",
        "    href = article.find('a')['href']\n",
        "    full_url = f'http://{href}'\n",
        "    starTag = article.find('p')\n",
        "    star = starTag['class'][1]\n",
        "    price = article.find('p', class_='price_color').text   # we get the op in string format\n",
        "    # price = float(price[1:])\n",
        "    books.append([title, star, price, full_url])   # added all the info in the list\n",
        "\n",
        "\n"
      ]
    },
    {
      "cell_type": "code",
      "source": [
        "df = pd.DataFrame(books, columns=['Title', 'Star Rating', 'Price', 'Link'])\n",
        "df.to_csv('books.csv')"
      ],
      "metadata": {
        "id": "WHa7-W3YTZk5",
        "colab": {
          "base_uri": "https://localhost:8080/",
          "height": 193
        },
        "outputId": "45097ec5-a715-43b5-fdfb-e209d7eb4b70"
      },
      "execution_count": null,
      "outputs": [
        {
          "output_type": "error",
          "ename": "NameError",
          "evalue": "name 'pd' is not defined",
          "traceback": [
            "\u001b[0;31m---------------------------------------------------------------------------\u001b[0m",
            "\u001b[0;31mNameError\u001b[0m                                 Traceback (most recent call last)",
            "\u001b[0;32m<ipython-input-1-845d9f942e86>\u001b[0m in \u001b[0;36m<cell line: 1>\u001b[0;34m()\u001b[0m\n\u001b[0;32m----> 1\u001b[0;31m \u001b[0mdf\u001b[0m \u001b[0;34m=\u001b[0m \u001b[0mpd\u001b[0m\u001b[0;34m.\u001b[0m\u001b[0mDataFrame\u001b[0m\u001b[0;34m(\u001b[0m\u001b[0mbooks\u001b[0m\u001b[0;34m,\u001b[0m \u001b[0mcolumns\u001b[0m\u001b[0;34m=\u001b[0m\u001b[0;34m[\u001b[0m\u001b[0;34m'Title'\u001b[0m\u001b[0;34m,\u001b[0m \u001b[0;34m'Star Rating'\u001b[0m\u001b[0;34m,\u001b[0m \u001b[0;34m'Price'\u001b[0m\u001b[0;34m,\u001b[0m \u001b[0;34m'Link'\u001b[0m\u001b[0;34m]\u001b[0m\u001b[0;34m)\u001b[0m\u001b[0;34m\u001b[0m\u001b[0;34m\u001b[0m\u001b[0m\n\u001b[0m\u001b[1;32m      2\u001b[0m \u001b[0mdf\u001b[0m\u001b[0;34m.\u001b[0m\u001b[0mto_csv\u001b[0m\u001b[0;34m(\u001b[0m\u001b[0;34m'books.csv'\u001b[0m\u001b[0;34m)\u001b[0m\u001b[0;34m\u001b[0m\u001b[0;34m\u001b[0m\u001b[0m\n",
            "\u001b[0;31mNameError\u001b[0m: name 'pd' is not defined"
          ]
        }
      ]
    },
    {
      "cell_type": "markdown",
      "source": [
        "https://github.com/Ankit-githb/Prepinsta-project-5--Murder-Mystery/blob/main/books.csv        ---> this is the link of csv file"
      ],
      "metadata": {
        "id": "cdvL_2nezZv7"
      }
    }
  ]
}